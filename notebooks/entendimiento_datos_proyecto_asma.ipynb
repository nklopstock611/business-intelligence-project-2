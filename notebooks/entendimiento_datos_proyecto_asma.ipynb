{
  "nbformat": 4,
  "nbformat_minor": 0,
  "metadata": {
    "colab": {
      "provenance": []
    },
    "kernelspec": {
      "name": "python3",
      "display_name": "Python 3"
    },
    "language_info": {
      "name": "python"
    }
  },
  "cells": [
    {
      "cell_type": "markdown",
      "source": [
        "# Proyecto Asma - Análisis de Datos\n"
      ],
      "metadata": {
        "id": "Bj2owwKhdLhd"
      }
    },
    {
      "cell_type": "markdown",
      "source": [
        "## Librerías"
      ],
      "metadata": {
        "id": "pFfvOhSmeu9B"
      }
    },
    {
      "cell_type": "code",
      "execution_count": null,
      "metadata": {
        "id": "0tL1Tbbjbo0r"
      },
      "outputs": [],
      "source": [
        "import numpy as np\n",
        "import pandas as pd\n",
        "import matplotlib.pyplot as plt"
      ]
    },
    {
      "cell_type": "markdown",
      "source": [
        "## Carga de Datos"
      ],
      "metadata": {
        "id": "A5N7kmtLe_u_"
      }
    },
    {
      "cell_type": "markdown",
      "source": [
        "### Datos 2017"
      ],
      "metadata": {
        "id": "hghQf46kfrR1"
      }
    },
    {
      "cell_type": "code",
      "source": [
        "df_17 = pd.read_csv('data/Datos_proyecto_II_BI_2017v2.csv', encoding=\"ISO-8859-1\", sep=',')\n",
        "df_17.head()"
      ],
      "metadata": {
        "id": "3kxex-ltfB2_",
        "colab": {
          "base_uri": "https://localhost:8080/",
          "height": 206
        },
        "outputId": "37519a58-417d-46f2-8476-87dbcfdef365"
      },
      "execution_count": null,
      "outputs": [
        {
          "output_type": "execute_result",
          "data": {
            "text/plain": [
              "   DIRECTORIO_PER  DIRECTORIO_HOG  DIRECTORIO  SECUENCIA_P  NPCEP4  NPCEP5  \\\n",
              "0        10100011         1010001      101000            1      56       1   \n",
              "1        10100012         1010001      101000            1      48       2   \n",
              "2        10100013         1010001      101000            1      22       2   \n",
              "3        10100111         1010011      101001            1      42       1   \n",
              "4        10100112         1010011      101001            1      43       2   \n",
              "\n",
              "   NPCFP14I NHCCP22A NHCCP22D NHCCP26  NVCBP8A  NVCBP8G NVCBP11AA  NVCBP15D  \\\n",
              "0         2        1                2      2.0      2.0         2       2.0   \n",
              "1         2        1                2      2.0      2.0         2       2.0   \n",
              "2         2        1                2      2.0      2.0         2       2.0   \n",
              "3         2        1                2      1.0      2.0         3       2.0   \n",
              "4         2        1                2      1.0      2.0         3       2.0   \n",
              "\n",
              "   SECUENCIA CODLOCALIDAD  \n",
              "0        1.0           11  \n",
              "1        1.0           11  \n",
              "2        1.0           11  \n",
              "3        1.0            1  \n",
              "4        1.0            1  "
            ],
            "text/html": [
              "\n",
              "  <div id=\"df-f5627594-5096-424e-9c44-7efe7aa2d1a7\">\n",
              "    <div class=\"colab-df-container\">\n",
              "      <div>\n",
              "<style scoped>\n",
              "    .dataframe tbody tr th:only-of-type {\n",
              "        vertical-align: middle;\n",
              "    }\n",
              "\n",
              "    .dataframe tbody tr th {\n",
              "        vertical-align: top;\n",
              "    }\n",
              "\n",
              "    .dataframe thead th {\n",
              "        text-align: right;\n",
              "    }\n",
              "</style>\n",
              "<table border=\"1\" class=\"dataframe\">\n",
              "  <thead>\n",
              "    <tr style=\"text-align: right;\">\n",
              "      <th></th>\n",
              "      <th>DIRECTORIO_PER</th>\n",
              "      <th>DIRECTORIO_HOG</th>\n",
              "      <th>DIRECTORIO</th>\n",
              "      <th>SECUENCIA_P</th>\n",
              "      <th>NPCEP4</th>\n",
              "      <th>NPCEP5</th>\n",
              "      <th>NPCFP14I</th>\n",
              "      <th>NHCCP22A</th>\n",
              "      <th>NHCCP22D</th>\n",
              "      <th>NHCCP26</th>\n",
              "      <th>NVCBP8A</th>\n",
              "      <th>NVCBP8G</th>\n",
              "      <th>NVCBP11AA</th>\n",
              "      <th>NVCBP15D</th>\n",
              "      <th>SECUENCIA</th>\n",
              "      <th>CODLOCALIDAD</th>\n",
              "    </tr>\n",
              "  </thead>\n",
              "  <tbody>\n",
              "    <tr>\n",
              "      <th>0</th>\n",
              "      <td>10100011</td>\n",
              "      <td>1010001</td>\n",
              "      <td>101000</td>\n",
              "      <td>1</td>\n",
              "      <td>56</td>\n",
              "      <td>1</td>\n",
              "      <td>2</td>\n",
              "      <td>1</td>\n",
              "      <td></td>\n",
              "      <td>2</td>\n",
              "      <td>2.0</td>\n",
              "      <td>2.0</td>\n",
              "      <td>2</td>\n",
              "      <td>2.0</td>\n",
              "      <td>1.0</td>\n",
              "      <td>11</td>\n",
              "    </tr>\n",
              "    <tr>\n",
              "      <th>1</th>\n",
              "      <td>10100012</td>\n",
              "      <td>1010001</td>\n",
              "      <td>101000</td>\n",
              "      <td>1</td>\n",
              "      <td>48</td>\n",
              "      <td>2</td>\n",
              "      <td>2</td>\n",
              "      <td>1</td>\n",
              "      <td></td>\n",
              "      <td>2</td>\n",
              "      <td>2.0</td>\n",
              "      <td>2.0</td>\n",
              "      <td>2</td>\n",
              "      <td>2.0</td>\n",
              "      <td>1.0</td>\n",
              "      <td>11</td>\n",
              "    </tr>\n",
              "    <tr>\n",
              "      <th>2</th>\n",
              "      <td>10100013</td>\n",
              "      <td>1010001</td>\n",
              "      <td>101000</td>\n",
              "      <td>1</td>\n",
              "      <td>22</td>\n",
              "      <td>2</td>\n",
              "      <td>2</td>\n",
              "      <td>1</td>\n",
              "      <td></td>\n",
              "      <td>2</td>\n",
              "      <td>2.0</td>\n",
              "      <td>2.0</td>\n",
              "      <td>2</td>\n",
              "      <td>2.0</td>\n",
              "      <td>1.0</td>\n",
              "      <td>11</td>\n",
              "    </tr>\n",
              "    <tr>\n",
              "      <th>3</th>\n",
              "      <td>10100111</td>\n",
              "      <td>1010011</td>\n",
              "      <td>101001</td>\n",
              "      <td>1</td>\n",
              "      <td>42</td>\n",
              "      <td>1</td>\n",
              "      <td>2</td>\n",
              "      <td>1</td>\n",
              "      <td></td>\n",
              "      <td>2</td>\n",
              "      <td>1.0</td>\n",
              "      <td>2.0</td>\n",
              "      <td>3</td>\n",
              "      <td>2.0</td>\n",
              "      <td>1.0</td>\n",
              "      <td>1</td>\n",
              "    </tr>\n",
              "    <tr>\n",
              "      <th>4</th>\n",
              "      <td>10100112</td>\n",
              "      <td>1010011</td>\n",
              "      <td>101001</td>\n",
              "      <td>1</td>\n",
              "      <td>43</td>\n",
              "      <td>2</td>\n",
              "      <td>2</td>\n",
              "      <td>1</td>\n",
              "      <td></td>\n",
              "      <td>2</td>\n",
              "      <td>1.0</td>\n",
              "      <td>2.0</td>\n",
              "      <td>3</td>\n",
              "      <td>2.0</td>\n",
              "      <td>1.0</td>\n",
              "      <td>1</td>\n",
              "    </tr>\n",
              "  </tbody>\n",
              "</table>\n",
              "</div>\n",
              "      <button class=\"colab-df-convert\" onclick=\"convertToInteractive('df-f5627594-5096-424e-9c44-7efe7aa2d1a7')\"\n",
              "              title=\"Convert this dataframe to an interactive table.\"\n",
              "              style=\"display:none;\">\n",
              "        \n",
              "  <svg xmlns=\"http://www.w3.org/2000/svg\" height=\"24px\"viewBox=\"0 0 24 24\"\n",
              "       width=\"24px\">\n",
              "    <path d=\"M0 0h24v24H0V0z\" fill=\"none\"/>\n",
              "    <path d=\"M18.56 5.44l.94 2.06.94-2.06 2.06-.94-2.06-.94-.94-2.06-.94 2.06-2.06.94zm-11 1L8.5 8.5l.94-2.06 2.06-.94-2.06-.94L8.5 2.5l-.94 2.06-2.06.94zm10 10l.94 2.06.94-2.06 2.06-.94-2.06-.94-.94-2.06-.94 2.06-2.06.94z\"/><path d=\"M17.41 7.96l-1.37-1.37c-.4-.4-.92-.59-1.43-.59-.52 0-1.04.2-1.43.59L10.3 9.45l-7.72 7.72c-.78.78-.78 2.05 0 2.83L4 21.41c.39.39.9.59 1.41.59.51 0 1.02-.2 1.41-.59l7.78-7.78 2.81-2.81c.8-.78.8-2.07 0-2.86zM5.41 20L4 18.59l7.72-7.72 1.47 1.35L5.41 20z\"/>\n",
              "  </svg>\n",
              "      </button>\n",
              "      \n",
              "  <style>\n",
              "    .colab-df-container {\n",
              "      display:flex;\n",
              "      flex-wrap:wrap;\n",
              "      gap: 12px;\n",
              "    }\n",
              "\n",
              "    .colab-df-convert {\n",
              "      background-color: #E8F0FE;\n",
              "      border: none;\n",
              "      border-radius: 50%;\n",
              "      cursor: pointer;\n",
              "      display: none;\n",
              "      fill: #1967D2;\n",
              "      height: 32px;\n",
              "      padding: 0 0 0 0;\n",
              "      width: 32px;\n",
              "    }\n",
              "\n",
              "    .colab-df-convert:hover {\n",
              "      background-color: #E2EBFA;\n",
              "      box-shadow: 0px 1px 2px rgba(60, 64, 67, 0.3), 0px 1px 3px 1px rgba(60, 64, 67, 0.15);\n",
              "      fill: #174EA6;\n",
              "    }\n",
              "\n",
              "    [theme=dark] .colab-df-convert {\n",
              "      background-color: #3B4455;\n",
              "      fill: #D2E3FC;\n",
              "    }\n",
              "\n",
              "    [theme=dark] .colab-df-convert:hover {\n",
              "      background-color: #434B5C;\n",
              "      box-shadow: 0px 1px 3px 1px rgba(0, 0, 0, 0.15);\n",
              "      filter: drop-shadow(0px 1px 2px rgba(0, 0, 0, 0.3));\n",
              "      fill: #FFFFFF;\n",
              "    }\n",
              "  </style>\n",
              "\n",
              "      <script>\n",
              "        const buttonEl =\n",
              "          document.querySelector('#df-f5627594-5096-424e-9c44-7efe7aa2d1a7 button.colab-df-convert');\n",
              "        buttonEl.style.display =\n",
              "          google.colab.kernel.accessAllowed ? 'block' : 'none';\n",
              "\n",
              "        async function convertToInteractive(key) {\n",
              "          const element = document.querySelector('#df-f5627594-5096-424e-9c44-7efe7aa2d1a7');\n",
              "          const dataTable =\n",
              "            await google.colab.kernel.invokeFunction('convertToInteractive',\n",
              "                                                     [key], {});\n",
              "          if (!dataTable) return;\n",
              "\n",
              "          const docLinkHtml = 'Like what you see? Visit the ' +\n",
              "            '<a target=\"_blank\" href=https://colab.research.google.com/notebooks/data_table.ipynb>data table notebook</a>'\n",
              "            + ' to learn more about interactive tables.';\n",
              "          element.innerHTML = '';\n",
              "          dataTable['output_type'] = 'display_data';\n",
              "          await google.colab.output.renderOutput(dataTable, element);\n",
              "          const docLink = document.createElement('div');\n",
              "          docLink.innerHTML = docLinkHtml;\n",
              "          element.appendChild(docLink);\n",
              "        }\n",
              "      </script>\n",
              "    </div>\n",
              "  </div>\n",
              "  "
            ]
          },
          "metadata": {},
          "execution_count": 224
        }
      ]
    },
    {
      "cell_type": "code",
      "source": [
        "duplicate_rows = df_17[df_17.duplicated()]\n",
        "num_duplicate_rows = len(duplicate_rows)\n",
        "percentage_duplicate_rows = num_duplicate_rows / len(df_17)\n",
        "percentage_unique_rows = 100 - percentage_duplicate_rows\n",
        "\n",
        "print(f\"Number of duplicated rows: {num_duplicate_rows}\")\n",
        "print(f\"Percentage of duplicated rows: {percentage_duplicate_rows:.2f}%\")\n",
        "print(f\"Percentage of unique rows: {percentage_unique_rows:.2f}%\")"
      ],
      "metadata": {
        "colab": {
          "base_uri": "https://localhost:8080/"
        },
        "id": "bfK_ZBNBQgEV",
        "outputId": "05a66636-d045-4bcc-938f-bf583f3e935b"
      },
      "execution_count": null,
      "outputs": [
        {
          "output_type": "stream",
          "name": "stdout",
          "text": [
            "Number of duplicated rows: 0\n",
            "Percentage of duplicated rows: 0.00%\n",
            "Percentage of unique rows: 100.00%\n"
          ]
        }
      ]
    },
    {
      "cell_type": "markdown",
      "source": [
        "#### Limpieza de datos (focalizar datos a la región metropolitana de Bogotá)"
      ],
      "metadata": {
        "id": "_GKppR3cp0Y_"
      }
    },
    {
      "cell_type": "markdown",
      "source": [
        "Para poder hacer nuestro an[alisis"
      ],
      "metadata": {
        "id": "VTSXOLBQCZCS"
      }
    },
    {
      "cell_type": "code",
      "source": [
        "localities = {1: 'Usaquén',\n",
        "                   2: 'Chapinero',\n",
        "                   3: 'Santafé',\n",
        "                   4: 'San Cristóbal',\n",
        "                   5: 'Usme',\n",
        "                   6: 'Tunjuelito',\n",
        "                   7: 'Bosa',\n",
        "                   8: 'Kennedy',\n",
        "                   9: 'Fontibón',\n",
        "                   10: 'Engativá',\n",
        "                   11: 'Suba',\n",
        "                   12: 'Barrios Unidos',\n",
        "                   13: 'Teusaquillo',\n",
        "                   14: 'Los Mártires',\n",
        "                   15: 'Antonio Nariño',\n",
        "                   16: 'Puente Aranda',\n",
        "                   17: 'La Candelaria',\n",
        "                   18: 'Rafael Uribe Uribe',\n",
        "                   19: 'Ciudad Bolívar',\n",
        "                   20: 'Sumapaz',\n",
        "                   21: 'Otra localidad rural'}"
      ],
      "metadata": {
        "id": "86BEinvNYN19"
      },
      "execution_count": null,
      "outputs": []
    },
    {
      "cell_type": "code",
      "source": [
        "df_17['CODLOCALIDAD'].value_counts()"
      ],
      "metadata": {
        "colab": {
          "base_uri": "https://localhost:8080/"
        },
        "id": "AWI2hOgkvEQG",
        "outputId": "03b0c4f6-de4a-4358-fcb4-3802ce891f12"
      },
      "execution_count": null,
      "outputs": [
        {
          "output_type": "execute_result",
          "data": {
            "text/plain": [
              "      96753\n",
              "8     27847\n",
              "11    22432\n",
              "9     18691\n",
              "10    16261\n",
              "19    15955\n",
              "5     14509\n",
              "7     12476\n",
              "4     12030\n",
              "1     11967\n",
              "16    10168\n",
              "13     9759\n",
              "18     9118\n",
              "3      8470\n",
              "15     5430\n",
              "12     5368\n",
              "6      5093\n",
              "14     4558\n",
              "2      4080\n",
              "17     1938\n",
              "20     1199\n",
              "21     1030\n",
              "Name: CODLOCALIDAD, dtype: int64"
            ]
          },
          "metadata": {},
          "execution_count": 227
        }
      ]
    },
    {
      "cell_type": "code",
      "source": [
        "value_to_delete = df_17['CODLOCALIDAD'].mode()\n",
        "df_17['CODLOCALIDAD'] = df_17['CODLOCALIDAD'].replace(' ', '0')\n",
        "print(value_to_delete)\n",
        "df_17['CODLOCALIDAD'] = df_17['CODLOCALIDAD'].fillna(0).astype(int)\n",
        "\n"
      ],
      "metadata": {
        "id": "lws8PIUzqPx4",
        "colab": {
          "base_uri": "https://localhost:8080/"
        },
        "outputId": "03eeb5ff-02c3-4c89-d7c0-71d022ccbaab"
      },
      "execution_count": null,
      "outputs": [
        {
          "output_type": "stream",
          "name": "stdout",
          "text": [
            "0     \n",
            "Name: CODLOCALIDAD, dtype: object\n"
          ]
        }
      ]
    },
    {
      "cell_type": "code",
      "source": [
        "df_17['CODLOCALIDAD'].value_counts()"
      ],
      "metadata": {
        "colab": {
          "base_uri": "https://localhost:8080/"
        },
        "id": "nTeCf4HWu8z5",
        "outputId": "e52305b6-2695-492f-b109-ea0f078deeaa"
      },
      "execution_count": null,
      "outputs": [
        {
          "output_type": "execute_result",
          "data": {
            "text/plain": [
              "0     101573\n",
              "8      27847\n",
              "11     22432\n",
              "9      18691\n",
              "10     16261\n",
              "19     15955\n",
              "5      14509\n",
              "7      12476\n",
              "4      12030\n",
              "1      11967\n",
              "16     10168\n",
              "13      9759\n",
              "18      9118\n",
              "3       8470\n",
              "15      5430\n",
              "12      5368\n",
              "6       5093\n",
              "14      4558\n",
              "2       4080\n",
              "17      1938\n",
              "20      1199\n",
              "21      1030\n",
              "Name: CODLOCALIDAD, dtype: int64"
            ]
          },
          "metadata": {},
          "execution_count": 229
        }
      ]
    },
    {
      "cell_type": "code",
      "source": [
        "df_17 = df_17[df_17['CODLOCALIDAD'] != 0]"
      ],
      "metadata": {
        "id": "5DQk2woWsGWi"
      },
      "execution_count": null,
      "outputs": []
    },
    {
      "cell_type": "code",
      "source": [
        "df_17['CODLOCALIDAD'].value_counts()"
      ],
      "metadata": {
        "colab": {
          "base_uri": "https://localhost:8080/"
        },
        "id": "IV_e9dkfxW9u",
        "outputId": "61c6ba3d-5c83-4c49-cc76-590a2f8dabed"
      },
      "execution_count": null,
      "outputs": [
        {
          "output_type": "execute_result",
          "data": {
            "text/plain": [
              "8     27847\n",
              "11    22432\n",
              "9     18691\n",
              "10    16261\n",
              "19    15955\n",
              "5     14509\n",
              "7     12476\n",
              "4     12030\n",
              "1     11967\n",
              "16    10168\n",
              "13     9759\n",
              "18     9118\n",
              "3      8470\n",
              "15     5430\n",
              "12     5368\n",
              "6      5093\n",
              "14     4558\n",
              "2      4080\n",
              "17     1938\n",
              "20     1199\n",
              "21     1030\n",
              "Name: CODLOCALIDAD, dtype: int64"
            ]
          },
          "metadata": {},
          "execution_count": 231
        }
      ]
    },
    {
      "cell_type": "code",
      "source": [
        "df_17['NOMLOCALIDAD']=df_17['CODLOCALIDAD']\n",
        "df_17[['NOMLOCALIDAD']] = df_17[['NOMLOCALIDAD']].replace(localities)\n",
        "localidades=df_17['NOMLOCALIDAD'].value_counts()\n",
        "localidades.plot.barh()\n",
        "\n",
        "# Add labels and title\n",
        "plt.xlabel('Count')\n",
        "plt.ylabel('Area Names')\n",
        "plt.title('Distribution of Areas in Bogota')\n",
        "\n",
        "# Display the chart\n",
        "plt.show()"
      ],
      "metadata": {
        "colab": {
          "base_uri": "https://localhost:8080/",
          "height": 576
        },
        "id": "vWFDf7A4xaNz",
        "outputId": "d0f2e6cf-12bb-4fde-e7ac-8e4a4ef3685d"
      },
      "execution_count": null,
      "outputs": [
        {
          "output_type": "stream",
          "name": "stderr",
          "text": [
            "<ipython-input-232-abd7602d80cf>:1: SettingWithCopyWarning: \n",
            "A value is trying to be set on a copy of a slice from a DataFrame.\n",
            "Try using .loc[row_indexer,col_indexer] = value instead\n",
            "\n",
            "See the caveats in the documentation: https://pandas.pydata.org/pandas-docs/stable/user_guide/indexing.html#returning-a-view-versus-a-copy\n",
            "  df_17['NOMLOCALIDAD']=df_17['CODLOCALIDAD']\n"
          ]
        },
        {
          "output_type": "display_data",
          "data": {
            "text/plain": [
              "<Figure size 640x480 with 1 Axes>"
            ],
            "image/png": "[encoded data removed]"
          },
          "metadata": {}
        }
      ]
    },
    {
      "cell_type": "markdown",
      "source": [
        "#### Demografia del hogar"
      ],
      "metadata": {
        "id": "3k03m52P6jiP"
      }
    },
    {
      "cell_type": "markdown",
      "source": [
        "**Composición de hogar**\n",
        "\n",
        "*   NPCEP4 - Edad\n",
        "*   NPCEP5 - Sexo"
      ],
      "metadata": {
        "id": "oUqdFJIw_KlF"
      }
    },
    {
      "cell_type": "code",
      "source": [
        "fig, ax = plt.subplots()\n",
        "ax.boxplot(df_17['NPCEP4'])"
      ],
      "metadata": {
        "colab": {
          "base_uri": "https://localhost:8080/",
          "height": 569
        },
        "id": "JB6SYTmsCGZR",
        "outputId": "9e8c418e-5def-46bb-8203-69a0321aad1d"
      },
      "execution_count": null,
      "outputs": [
        {
          "output_type": "execute_result",
          "data": {
            "text/plain": [
              "{'whiskers': [<matplotlib.lines.Line2D at 0x7fe39093bb80>,\n",
              "  <matplotlib.lines.Line2D at 0x7fe39093be20>],\n",
              " 'caps': [<matplotlib.lines.Line2D at 0x7fe390968100>,\n",
              "  <matplotlib.lines.Line2D at 0x7fe3909683a0>],\n",
              " 'boxes': [<matplotlib.lines.Line2D at 0x7fe39093b8e0>],\n",
              " 'medians': [<matplotlib.lines.Line2D at 0x7fe390968640>],\n",
              " 'fliers': [<matplotlib.lines.Line2D at 0x7fe3909688e0>],\n",
              " 'means': []}"
            ]
          },
          "metadata": {},
          "execution_count": 233
        },
        {
          "output_type": "display_data",
          "data": {
            "text/plain": [
              "<Figure size 640x480 with 1 Axes>"
            ],
            "image/png": "[encoded data removed]"
          },
          "metadata": {}
        }
      ]
    },
    {
      "cell_type": "code",
      "source": [
        "df_17['NPCEP4'].describe()"
      ],
      "metadata": {
        "colab": {
          "base_uri": "https://localhost:8080/"
        },
        "id": "vxbcBfOF0UBd",
        "outputId": "4a3f9452-8a35-46ce-c98f-ed81434a0639"
      },
      "execution_count": null,
      "outputs": [
        {
          "output_type": "execute_result",
          "data": {
            "text/plain": [
              "count    218379.000000\n",
              "mean         36.199722\n",
              "std          21.209548\n",
              "min           0.000000\n",
              "25%          19.000000\n",
              "50%          34.000000\n",
              "75%          52.000000\n",
              "max         107.000000\n",
              "Name: NPCEP4, dtype: float64"
            ]
          },
          "metadata": {},
          "execution_count": 234
        }
      ]
    },
    {
      "cell_type": "markdown",
      "source": [
        "Como se puede observar en la gráfica anterior, en promedio, la edad de los encuestados es de 36 años. Adicionalmente, la población sobre la cuál se tomaron los datos se encuentran entre niños recién nacidos y personas de 107 años\n"
      ],
      "metadata": {
        "id": "nHvdKo6XKPcg"
      }
    },
    {
      "cell_type": "code",
      "source": [
        "df_17.rename(columns={'NPCEP4': 'Edad'}, inplace=True)"
      ],
      "metadata": {
        "id": "lLbHFbsuD8W-"
      },
      "execution_count": null,
      "outputs": []
    },
    {
      "cell_type": "markdown",
      "source": [
        "Las filas de encuestas llenadas por personas menores a 16 años de edad fueron eliminadas debido a que son valores con poco sentido. La cantidad de registros con personas menores a 16 años que respondieron la encuesta fue menor al 1% y por este motivo se decide eliminar estos registros"
      ],
      "metadata": {
        "id": "VWPZydu7LAVh"
      }
    },
    {
      "cell_type": "code",
      "source": [
        "sexo17=df_17['NPCEP5'].value_counts()\n",
        "print(sexo17)\n",
        "fig, ax = plt.subplots(figsize=(5,5))\n",
        "ax.pie(sexo17.values, labels=sexo17.index, autopct='%1.1f%%')\n",
        "ax.legend(loc='center left', bbox_to_anchor=(1.1, 0.5))"
      ],
      "metadata": {
        "colab": {
          "base_uri": "https://localhost:8080/",
          "height": 239
        },
        "id": "CL1lbtMF_NQq",
        "outputId": "70b16127-d414-44c3-9e3a-708048537221"
      },
      "execution_count": null,
      "outputs": [
        {
          "output_type": "error",
          "ename": "NameError",
          "evalue": "ignored",
          "traceback": [
            "\u001b[0;31m---------------------------------------------------------------------------\u001b[0m",
            "\u001b[0;31mNameError\u001b[0m                                 Traceback (most recent call last)",
            "\u001b[0;32m<ipython-input-1-91bf2d6096d5>\u001b[0m in \u001b[0;36m<cell line: 1>\u001b[0;34m()\u001b[0m\n\u001b[0;32m----> 1\u001b[0;31m \u001b[0msexo17\u001b[0m\u001b[0;34m=\u001b[0m\u001b[0mdf_17\u001b[0m\u001b[0;34m[\u001b[0m\u001b[0;34m'NPCEP5'\u001b[0m\u001b[0;34m]\u001b[0m\u001b[0;34m.\u001b[0m\u001b[0mvalue_counts\u001b[0m\u001b[0;34m(\u001b[0m\u001b[0;34m)\u001b[0m\u001b[0;34m\u001b[0m\u001b[0;34m\u001b[0m\u001b[0m\n\u001b[0m\u001b[1;32m      2\u001b[0m \u001b[0mprint\u001b[0m\u001b[0;34m(\u001b[0m\u001b[0msexo17\u001b[0m\u001b[0;34m)\u001b[0m\u001b[0;34m\u001b[0m\u001b[0;34m\u001b[0m\u001b[0m\n\u001b[1;32m      3\u001b[0m \u001b[0mfig\u001b[0m\u001b[0;34m,\u001b[0m \u001b[0max\u001b[0m \u001b[0;34m=\u001b[0m \u001b[0mplt\u001b[0m\u001b[0;34m.\u001b[0m\u001b[0msubplots\u001b[0m\u001b[0;34m(\u001b[0m\u001b[0mfigsize\u001b[0m\u001b[0;34m=\u001b[0m\u001b[0;34m(\u001b[0m\u001b[0;36m5\u001b[0m\u001b[0;34m,\u001b[0m\u001b[0;36m5\u001b[0m\u001b[0;34m)\u001b[0m\u001b[0;34m)\u001b[0m\u001b[0;34m\u001b[0m\u001b[0;34m\u001b[0m\u001b[0m\n\u001b[1;32m      4\u001b[0m \u001b[0max\u001b[0m\u001b[0;34m.\u001b[0m\u001b[0mpie\u001b[0m\u001b[0;34m(\u001b[0m\u001b[0msexo17\u001b[0m\u001b[0;34m.\u001b[0m\u001b[0mvalues\u001b[0m\u001b[0;34m,\u001b[0m \u001b[0mlabels\u001b[0m\u001b[0;34m=\u001b[0m\u001b[0msexo17\u001b[0m\u001b[0;34m.\u001b[0m\u001b[0mindex\u001b[0m\u001b[0;34m,\u001b[0m \u001b[0mautopct\u001b[0m\u001b[0;34m=\u001b[0m\u001b[0;34m'%1.1f%%'\u001b[0m\u001b[0;34m)\u001b[0m\u001b[0;34m\u001b[0m\u001b[0;34m\u001b[0m\u001b[0m\n\u001b[1;32m      5\u001b[0m \u001b[0max\u001b[0m\u001b[0;34m.\u001b[0m\u001b[0mlegend\u001b[0m\u001b[0;34m(\u001b[0m\u001b[0mloc\u001b[0m\u001b[0;34m=\u001b[0m\u001b[0;34m'center left'\u001b[0m\u001b[0;34m,\u001b[0m \u001b[0mbbox_to_anchor\u001b[0m\u001b[0;34m=\u001b[0m\u001b[0;34m(\u001b[0m\u001b[0;36m1.1\u001b[0m\u001b[0;34m,\u001b[0m \u001b[0;36m0.5\u001b[0m\u001b[0;34m)\u001b[0m\u001b[0;34m)\u001b[0m\u001b[0;34m\u001b[0m\u001b[0;34m\u001b[0m\u001b[0m\n",
            "\u001b[0;31mNameError\u001b[0m: name 'df_17' is not defined"
          ]
        }
      ]
    },
    {
      "cell_type": "code",
      "source": [
        "df_17.rename(columns={'NPCEP5': 'Sexo'}, inplace=True)"
      ],
      "metadata": {
        "id": "tSpln016EGFG"
      },
      "execution_count": null,
      "outputs": []
    },
    {
      "cell_type": "markdown",
      "source": [
        "Como se puede observar en el gráfico anterior la mayoría de las personas registradas en las encuestas"
      ],
      "metadata": {
        "id": "n1E4t4w-MKdB"
      }
    },
    {
      "cell_type": "markdown",
      "source": [
        "#### Datos de la vivienda y el entorno"
      ],
      "metadata": {
        "id": "Bof6Ti6J7WAt"
      }
    },
    {
      "cell_type": "markdown",
      "source": [
        "**Datos de la vivienda y el entorno**\n",
        "*   Humedades en el techo y paredes (NVCBP8A)\n",
        "*   ¿La vivienda presenta:7. Escasa ventilación? (NVCBP8G)\n",
        "*   Estrato para tarifa: (NVCBP11AA)\n",
        "*   Contaminación de aire en su vivienda (NVCBP15D)"
      ],
      "metadata": {
        "id": "vRQAnX_e-9D0"
      }
    },
    {
      "cell_type": "code",
      "source": [
        "humedad17 = df_17['NVCBP8A'].value_counts()\n",
        "fig, ax = plt.subplots(figsize=(5,5))\n",
        "ax.pie(humedad17.values, labels=humedad17.index, autopct='%1.1f%%')\n",
        "ax.legend(loc='center left', bbox_to_anchor=(1.1, 0.5))"
      ],
      "metadata": {
        "colab": {
          "base_uri": "https://localhost:8080/",
          "height": 439
        },
        "id": "e2eL_kUl_4x3",
        "outputId": "2fe4b85e-aa87-400a-824c-1c79afa3098e"
      },
      "execution_count": null,
      "outputs": [
        {
          "output_type": "execute_result",
          "data": {
            "text/plain": [
              "<matplotlib.legend.Legend at 0x7fe39090b5e0>"
            ]
          },
          "metadata": {},
          "execution_count": 238
        },
        {
          "output_type": "display_data",
          "data": {
            "text/plain": [
              "<Figure size 500x500 with 1 Axes>"
            ],
            "image/png": "[encoded data removed]"
          },
          "metadata": {}
        }
      ]
    },
    {
      "cell_type": "code",
      "source": [
        "moda_hume= df_17['NVCBP8A'].mode().iloc[0]\n",
        "df_17['NVCBP8A'].replace(9, moda_hume, inplace=True)\n",
        "humedadProcesada = df_17['NVCBP8A'].value_counts()\n",
        "fig, ax = plt.subplots(figsize=(5,5))\n",
        "ax.pie(humedadProcesada.values, labels=humedadProcesada.index, autopct='%1.1f%%')\n",
        "ax.legend(loc='center left', bbox_to_anchor=(1.1, 0.5))"
      ],
      "metadata": {
        "colab": {
          "base_uri": "https://localhost:8080/",
          "height": 439
        },
        "id": "8M2-KbXsAz3R",
        "outputId": "d4b9d5c9-d46e-4b0c-e090-2118081232eb"
      },
      "execution_count": null,
      "outputs": [
        {
          "output_type": "execute_result",
          "data": {
            "text/plain": [
              "<matplotlib.legend.Legend at 0x7fe390994f10>"
            ]
          },
          "metadata": {},
          "execution_count": 239
        },
        {
          "output_type": "display_data",
          "data": {
            "text/plain": [
              "<Figure size 500x500 with 1 Axes>"
            ],
            "image/png": "[encoded data removed]"
          },
          "metadata": {}
        }
      ]
    },
    {
      "cell_type": "code",
      "source": [
        "df_17.rename(columns={'NVCBP8A': 'Humedad'}, inplace=True)"
      ],
      "metadata": {
        "id": "AuT_WuEfEY-T"
      },
      "execution_count": null,
      "outputs": []
    },
    {
      "cell_type": "code",
      "source": [
        "ventilacion_escasa17=df_17['NVCBP8G'].value_counts()\n",
        "df_17.rename(columns={'NVCBP8G': 'NivelVentilacion'}, inplace=True)\n",
        "fig, ax = plt.subplots(figsize=(5,5))\n",
        "ax.pie(ventilacion_escasa17.values, labels=ventilacion_escasa17.index, autopct='%1.1f%%')\n",
        "ax.legend(loc='center left', bbox_to_anchor=(1.1, 0.5))"
      ],
      "metadata": {
        "id": "BqEnHinddO0_",
        "colab": {
          "base_uri": "https://localhost:8080/",
          "height": 439
        },
        "outputId": "952cb000-7348-4681-9240-b915856c7921"
      },
      "execution_count": null,
      "outputs": [
        {
          "output_type": "execute_result",
          "data": {
            "text/plain": [
              "<matplotlib.legend.Legend at 0x7fe3914df910>"
            ]
          },
          "metadata": {},
          "execution_count": 241
        },
        {
          "output_type": "display_data",
          "data": {
            "text/plain": [
              "<Figure size 500x500 with 1 Axes>"
            ],
            "image/png": "[encoded data removed]"
          },
          "metadata": {}
        }
      ]
    },
    {
      "cell_type": "code",
      "source": [
        "moda_vent= df_17['NivelVentilacion'].mode()\n",
        "print(moda_vent)"
      ],
      "metadata": {
        "id": "TOysUnrfVk0r",
        "colab": {
          "base_uri": "https://localhost:8080/"
        },
        "outputId": "6a4cc490-7f10-4e64-a8db-3a31f8efd468"
      },
      "execution_count": null,
      "outputs": [
        {
          "output_type": "stream",
          "name": "stdout",
          "text": [
            "0    2.0\n",
            "Name: NivelVentilacion, dtype: float64\n"
          ]
        }
      ]
    },
    {
      "cell_type": "code",
      "source": [
        "df_17['NivelVentilacion'].describe()"
      ],
      "metadata": {
        "id": "E88sdLGKVyy7",
        "colab": {
          "base_uri": "https://localhost:8080/"
        },
        "outputId": "c59c693a-8a78-4939-ced4-2036a74e7976"
      },
      "execution_count": null,
      "outputs": [
        {
          "output_type": "execute_result",
          "data": {
            "text/plain": [
              "count    218379.000000\n",
              "mean          2.068184\n",
              "std           0.915998\n",
              "min           1.000000\n",
              "25%           2.000000\n",
              "50%           2.000000\n",
              "75%           2.000000\n",
              "max           9.000000\n",
              "Name: NivelVentilacion, dtype: float64"
            ]
          },
          "metadata": {},
          "execution_count": 243
        }
      ]
    },
    {
      "cell_type": "code",
      "source": [
        "moda_vent= df_17['NivelVentilacion'].mode().iloc[0]\n",
        "df_17['NivelVentilacion'].replace(9, moda_vent, inplace=True)\n",
        "ventilacion_procesada = df_17['NivelVentilacion'].value_counts()\n",
        "fig, ax = plt.subplots(figsize=(5,5))\n",
        "ax.pie(ventilacion_procesada.values, labels=ventilacion_procesada.index, autopct='%1.1f%%')\n",
        "ax.legend(loc='center left', bbox_to_anchor=(1.1, 0.5))"
      ],
      "metadata": {
        "id": "9PLEJeHMTa3_",
        "colab": {
          "base_uri": "https://localhost:8080/",
          "height": 439
        },
        "outputId": "d3f92091-28c6-47eb-fbe1-2e5c3b2d917f"
      },
      "execution_count": null,
      "outputs": [
        {
          "output_type": "execute_result",
          "data": {
            "text/plain": [
              "<matplotlib.legend.Legend at 0x7fe3908c5c30>"
            ]
          },
          "metadata": {},
          "execution_count": 244
        },
        {
          "output_type": "display_data",
          "data": {
            "text/plain": [
              "<Figure size 500x500 with 1 Axes>"
            ],
            "image/png": "[encoded data removed]"
          },
          "metadata": {}
        }
      ]
    },
    {
      "cell_type": "code",
      "source": [
        "df_17['NVCBP11AA'].value_counts()\n"
      ],
      "metadata": {
        "colab": {
          "base_uri": "https://localhost:8080/"
        },
        "id": "PoYVYjZ_y6qD",
        "outputId": "f3fc1013-5164-4827-91b6-0531d7d35041"
      },
      "execution_count": null,
      "outputs": [
        {
          "output_type": "execute_result",
          "data": {
            "text/plain": [
              "2    82008\n",
              "3    75344\n",
              "4    28830\n",
              "1    22612\n",
              "5     6082\n",
              "6     2823\n",
              "       380\n",
              "0      255\n",
              "9       30\n",
              "8       15\n",
              "Name: NVCBP11AA, dtype: int64"
            ]
          },
          "metadata": {},
          "execution_count": 245
        }
      ]
    },
    {
      "cell_type": "code",
      "source": [
        "df_17['NVCBP11AA'] = df_17['NVCBP11AA'].replace(' ', '-1')\n",
        "df_17['NVCBP11AA'] = df_17['NVCBP11AA'].astype(float)"
      ],
      "metadata": {
        "id": "09IMxh760H0D"
      },
      "execution_count": null,
      "outputs": []
    },
    {
      "cell_type": "code",
      "source": [
        "df_17['NVCBP11AA'].value_counts()"
      ],
      "metadata": {
        "colab": {
          "base_uri": "https://localhost:8080/"
        },
        "id": "1Rt9Lzsr0ZJB",
        "outputId": "dbf94594-6f7c-41cb-d45a-e1c6a8261ff3"
      },
      "execution_count": null,
      "outputs": [
        {
          "output_type": "execute_result",
          "data": {
            "text/plain": [
              " 2.0    82008\n",
              " 3.0    75344\n",
              " 4.0    28830\n",
              " 1.0    22612\n",
              " 5.0     6082\n",
              " 6.0     2823\n",
              "-1.0      380\n",
              " 0.0      255\n",
              " 9.0       30\n",
              " 8.0       15\n",
              "Name: NVCBP11AA, dtype: int64"
            ]
          },
          "metadata": {},
          "execution_count": 247
        }
      ]
    },
    {
      "cell_type": "code",
      "source": [
        "column_to_check = 'NVCBP11AA'\n",
        "total_rows = len(df_17)\n",
        "filtered_rows = len(df_17[~df_17[column_to_check].between(1, 6)])\n",
        "percentage = (filtered_rows / total_rows) * 100\n",
        "\n",
        "# Display the percentage\n",
        "print(f\"Percentage of rows with values different from 1 to 6: {percentage:.2f}%\")"
      ],
      "metadata": {
        "colab": {
          "base_uri": "https://localhost:8080/"
        },
        "id": "99xKhdph2SCp",
        "outputId": "bb7298f1-dd3d-4871-be65-24f7e55ccb05"
      },
      "execution_count": null,
      "outputs": [
        {
          "output_type": "stream",
          "name": "stdout",
          "text": [
            "Percentage of rows with values different from 1 to 6: 0.31%\n"
          ]
        }
      ]
    },
    {
      "cell_type": "code",
      "source": [
        "estrato_mas_comun=df_17['NVCBP11AA'].mode()\n",
        "df_17['NVCBP11AA'].replace(-1, estrato_mas_comun[0], inplace=True)\n",
        "df_17 = df_17[(df_17['NVCBP11AA'] != 0) & (df_17['NVCBP11AA'] != 8) & (df_17['NVCBP11AA'] != 9)]"
      ],
      "metadata": {
        "id": "9mgV-T813T6u"
      },
      "execution_count": null,
      "outputs": []
    },
    {
      "cell_type": "code",
      "source": [
        "df_17['NVCBP11AA'].value_counts()"
      ],
      "metadata": {
        "id": "MwNiSwQB368t",
        "outputId": "844c8973-f64d-4efa-c0c5-a5e57145ba54",
        "colab": {
          "base_uri": "https://localhost:8080/"
        }
      },
      "execution_count": null,
      "outputs": [
        {
          "output_type": "execute_result",
          "data": {
            "text/plain": [
              "2.0    82388\n",
              "3.0    75344\n",
              "4.0    28830\n",
              "1.0    22612\n",
              "5.0     6082\n",
              "6.0     2823\n",
              "Name: NVCBP11AA, dtype: int64"
            ]
          },
          "metadata": {},
          "execution_count": 250
        }
      ]
    },
    {
      "cell_type": "code",
      "source": [
        "estrato=df_17['NVCBP11AA'].value_counts()\n",
        "df_17.rename(columns={'NVCBP11A': 'TipoVivienda'}, inplace=True)\n",
        "plt.bar(estrato.index, estrato.values)\n",
        "\n",
        "# Set the chart title and axis labels\n",
        "plt.title('Distribution of Values')\n",
        "plt.xlabel('Value')\n",
        "plt.ylabel('Count')\n",
        "plt.xticks(estrato.index, estrato.index)\n",
        "\n",
        "# Set the chart size\n",
        "plt.figure(figsize=(10, 5))\n",
        "\n",
        "# Display the plot\n",
        "plt.show()"
      ],
      "metadata": {
        "id": "trJFam5Ynbo1",
        "colab": {
          "base_uri": "https://localhost:8080/",
          "height": 576
        },
        "outputId": "e7a871a2-e940-43fb-a0b1-a593192a6501"
      },
      "execution_count": null,
      "outputs": [
        {
          "output_type": "stream",
          "name": "stderr",
          "text": [
            "<ipython-input-251-771e4a292897>:2: SettingWithCopyWarning: \n",
            "A value is trying to be set on a copy of a slice from a DataFrame\n",
            "\n",
            "See the caveats in the documentation: https://pandas.pydata.org/pandas-docs/stable/user_guide/indexing.html#returning-a-view-versus-a-copy\n",
            "  df_17.rename(columns={'NVCBP11A': 'TipoVivienda'}, inplace=True)\n"
          ]
        },
        {
          "output_type": "display_data",
          "data": {
            "text/plain": [
              "<Figure size 640x480 with 1 Axes>"
            ],
            "image/png": "[encoded data removed]"
          },
          "metadata": {}
        },
        {
          "output_type": "display_data",
          "data": {
            "text/plain": [
              "<Figure size 1000x500 with 0 Axes>"
            ]
          },
          "metadata": {}
        }
      ]
    },
    {
      "cell_type": "code",
      "source": [
        "df_17.rename(columns={'NVCBP11AA': 'Estrato'}, inplace=True)"
      ],
      "metadata": {
        "id": "5rlmX81dEiEY"
      },
      "execution_count": null,
      "outputs": []
    },
    {
      "cell_type": "code",
      "source": [
        "contAire17 = df_17['NVCBP15D'].value_counts()\n",
        "fig, ax = plt.subplots(figsize=(5,5))\n",
        "ax.pie(contAire17.values, labels=contAire17.index, autopct='%1.1f%%')\n",
        "ax.legend(loc='center left', bbox_to_anchor=(1.1, 0.5))"
      ],
      "metadata": {
        "colab": {
          "base_uri": "https://localhost:8080/",
          "height": 439
        },
        "id": "hZxgJV5KBIEe",
        "outputId": "f4ab88f5-22f9-4216-e4ef-cf0b7e6abd46"
      },
      "execution_count": null,
      "outputs": [
        {
          "output_type": "execute_result",
          "data": {
            "text/plain": [
              "<matplotlib.legend.Legend at 0x7fe3913ecf10>"
            ]
          },
          "metadata": {},
          "execution_count": 253
        },
        {
          "output_type": "display_data",
          "data": {
            "text/plain": [
              "<Figure size 500x500 with 1 Axes>"
            ],
            "image/png": "[encoded data removed]"
          },
          "metadata": {}
        }
      ]
    },
    {
      "cell_type": "code",
      "source": [
        "df_17.rename(columns={'NVCBP15D': 'ContAire'}, inplace=True)"
      ],
      "metadata": {
        "id": "7-wkhqPfEpGL"
      },
      "execution_count": null,
      "outputs": []
    },
    {
      "cell_type": "markdown",
      "source": [
        "Por lo tanto, a partir de estas columnas se quiere analizar la calidad de vida de las personas dentro de su propio hogar en cuanto a la exposición a ambientes dañinos para su salud"
      ],
      "metadata": {
        "id": "xulqNCuGBY1f"
      }
    },
    {
      "cell_type": "markdown",
      "source": [
        "#### Condiciones habitacionales del hogar"
      ],
      "metadata": {
        "id": "kyqdgSsG7fSW"
      }
    },
    {
      "cell_type": "markdown",
      "source": [
        "**Condiciones de Vida (C)**\n",
        "\n",
        "\n",
        "\n",
        "*   NHCCP22A - Tiene jardin o patio \n",
        "*   NHCCP22D - Tiene azotea o terraza\n",
        "*   NHCCP26 - ¿Que energia o combustible usa para cocinar?\n",
        "\n",
        "Con estas se quiere revisar si es expuesto ha algun quimico en su vida diaría y si tiene un espacio con aire libre dentro de su hogar \n",
        "\n"
      ],
      "metadata": {
        "id": "mj9jkEiYZc47"
      }
    },
    {
      "cell_type": "code",
      "source": [
        "jardinPatio17 = df_17['NHCCP22A'].value_counts()\n",
        "print(jardinPatio17)"
      ],
      "metadata": {
        "colab": {
          "base_uri": "https://localhost:8080/"
        },
        "id": "mohjCHFF8GB5",
        "outputId": "ecd451a4-8c24-4d6c-a586-82f77eed18ed"
      },
      "execution_count": null,
      "outputs": [
        {
          "output_type": "stream",
          "name": "stdout",
          "text": [
            "     144854\n",
            "1     73225\n",
            "Name: NHCCP22A, dtype: int64\n"
          ]
        }
      ]
    },
    {
      "cell_type": "code",
      "source": [
        "fig, ax = plt.subplots(figsize=(5,5))\n",
        "ax.pie(jardinPatio17.values, labels=jardinPatio17.index, autopct='%1.1f%%')\n",
        "ax.legend(loc='center left', bbox_to_anchor=(1.1, 0.5))"
      ],
      "metadata": {
        "colab": {
          "base_uri": "https://localhost:8080/",
          "height": 439
        },
        "id": "044Cd6Rv8Xi_",
        "outputId": "2bca56a9-39f2-4a21-e6e3-95a5089c3ada"
      },
      "execution_count": null,
      "outputs": [
        {
          "output_type": "execute_result",
          "data": {
            "text/plain": [
              "<matplotlib.legend.Legend at 0x7fe394a028c0>"
            ]
          },
          "metadata": {},
          "execution_count": 256
        },
        {
          "output_type": "display_data",
          "data": {
            "text/plain": [
              "<Figure size 500x500 with 1 Axes>"
            ],
            "image/png": "[encoded data removed]"
          },
          "metadata": {}
        }
      ]
    },
    {
      "cell_type": "code",
      "source": [
        "df_17.rename(columns={'NHCCP22A': 'JardinPatio'}, inplace=True)"
      ],
      "metadata": {
        "id": "KPA2iztSEvov"
      },
      "execution_count": null,
      "outputs": []
    },
    {
      "cell_type": "code",
      "source": [
        "azoteaTerraza17 = df_17['NHCCP22D'].value_counts()\n",
        "print(azoteaTerraza17)"
      ],
      "metadata": {
        "colab": {
          "base_uri": "https://localhost:8080/"
        },
        "id": "NLBhicI88ocL",
        "outputId": "44fd8f21-e810-45fc-b615-e5f98b00464f"
      },
      "execution_count": null,
      "outputs": [
        {
          "output_type": "stream",
          "name": "stdout",
          "text": [
            "     167872\n",
            "1     50207\n",
            "Name: NHCCP22D, dtype: int64\n"
          ]
        }
      ]
    },
    {
      "cell_type": "code",
      "source": [
        "fig, ax = plt.subplots(figsize=(5,5))\n",
        "ax.pie(azoteaTerraza17.values, labels=azoteaTerraza17.index, autopct='%1.1f%%')\n",
        "ax.legend(loc='center left', bbox_to_anchor=(1.1, 0.5))"
      ],
      "metadata": {
        "colab": {
          "base_uri": "https://localhost:8080/",
          "height": 439
        },
        "id": "k7F2YWJG9LUC",
        "outputId": "369ff2f4-6cd9-4f94-a18a-92e6632eef02"
      },
      "execution_count": null,
      "outputs": [
        {
          "output_type": "execute_result",
          "data": {
            "text/plain": [
              "<matplotlib.legend.Legend at 0x7fe3949b6410>"
            ]
          },
          "metadata": {},
          "execution_count": 259
        },
        {
          "output_type": "display_data",
          "data": {
            "text/plain": [
              "<Figure size 500x500 with 1 Axes>"
            ],
            "image/png": "[encoded data removed]"
          },
          "metadata": {}
        }
      ]
    },
    {
      "cell_type": "code",
      "source": [
        "df_17.rename(columns={'NHCCP22D': 'AzoteaTerraza'}, inplace=True)"
      ],
      "metadata": {
        "id": "4Hj7TVd0E9vr"
      },
      "execution_count": null,
      "outputs": []
    },
    {
      "cell_type": "code",
      "source": [
        "combCocinar17 = df_17['NHCCP26'].value_counts()\n",
        "print(combCocinar17)"
      ],
      "metadata": {
        "colab": {
          "base_uri": "https://localhost:8080/"
        },
        "id": "HOXuYZj19Rbg",
        "outputId": "317dd107-c914-4698-fc8c-8dc0c654e860"
      },
      "execution_count": null,
      "outputs": [
        {
          "output_type": "stream",
          "name": "stdout",
          "text": [
            "2    192738\n",
            "1     11791\n",
            "3     10838\n",
            "7      1464\n",
            "        806\n",
            "6       353\n",
            "4        73\n",
            "5         9\n",
            "8         7\n",
            "Name: NHCCP26, dtype: int64\n"
          ]
        }
      ]
    },
    {
      "cell_type": "code",
      "source": [
        "fig, ax = plt.subplots(figsize=(5,5))\n",
        "ax.pie(combCocinar17.values, labels=combCocinar17.index, autopct='%1.1f%%')\n",
        "ax.legend(loc='center left', bbox_to_anchor=(1.1, 0.5))"
      ],
      "metadata": {
        "colab": {
          "base_uri": "https://localhost:8080/",
          "height": 439
        },
        "id": "l445j9oJ9fa4",
        "outputId": "623f8d0c-512b-4432-85b4-d486181606f4"
      },
      "execution_count": null,
      "outputs": [
        {
          "output_type": "execute_result",
          "data": {
            "text/plain": [
              "<matplotlib.legend.Legend at 0x7fe394a01e10>"
            ]
          },
          "metadata": {},
          "execution_count": 262
        },
        {
          "output_type": "display_data",
          "data": {
            "text/plain": [
              "<Figure size 500x500 with 1 Axes>"
            ],
            "image/png": "[encoded data removed]"
          },
          "metadata": {}
        }
      ]
    },
    {
      "cell_type": "code",
      "source": [
        "df_17.rename(columns={'NHCCP26': 'CombCocinar'}, inplace=True)"
      ],
      "metadata": {
        "id": "bzHuQDwZFFwR"
      },
      "execution_count": null,
      "outputs": []
    },
    {
      "cell_type": "markdown",
      "source": [
        "#### Salud"
      ],
      "metadata": {
        "id": "pue2B81sZiIr"
      }
    },
    {
      "cell_type": "code",
      "source": [
        "enfermedadResp17 = df_17['NPCFP14I'].value_counts()\n",
        "print(enfermedadResp17)\n",
        "df_17.rename(columns={'NPCFP14F': 'EnfRespiratorias17'}, inplace=True)"
      ],
      "metadata": {
        "id": "rmZY3GTnZmwB",
        "colab": {
          "base_uri": "https://localhost:8080/"
        },
        "outputId": "d04999c2-10b1-4b8b-b11a-402ec3b52c7a"
      },
      "execution_count": null,
      "outputs": [
        {
          "output_type": "stream",
          "name": "stdout",
          "text": [
            "2    214946\n",
            "1      3133\n",
            "Name: NPCFP14I, dtype: int64\n"
          ]
        }
      ]
    },
    {
      "cell_type": "code",
      "source": [
        "fig, ax = plt.subplots(figsize=(5,5))\n",
        "nombres = ['No Asma', 'Asma']\n",
        "ax.pie(enfermedadResp17.values, labels=nombres, autopct='%1.1f%%') # enfermedadResp17.index\n",
        "ax.legend(loc='center left', bbox_to_anchor=(1.1, 0.5))"
      ],
      "metadata": {
        "id": "eu_XtTMiZ-hg",
        "colab": {
          "base_uri": "https://localhost:8080/",
          "height": 439
        },
        "outputId": "eb8a61c8-dee4-43af-dbc1-e5c45ca46e58"
      },
      "execution_count": null,
      "outputs": [
        {
          "output_type": "execute_result",
          "data": {
            "text/plain": [
              "<matplotlib.legend.Legend at 0x7fe39443d5d0>"
            ]
          },
          "metadata": {},
          "execution_count": 265
        },
        {
          "output_type": "display_data",
          "data": {
            "text/plain": [
              "<Figure size 500x500 with 1 Axes>"
            ],
            "image/png": "[encoded data removed]"
          },
          "metadata": {}
        }
      ]
    },
    {
      "cell_type": "code",
      "source": [
        "df_17.rename(columns={'NPCFP14I': 'Asma'}, inplace=True)"
      ],
      "metadata": {
        "id": "vfI1nqu6FRtA"
      },
      "execution_count": null,
      "outputs": []
    },
    {
      "cell_type": "markdown",
      "source": [
        "## Variables finales del Modelo"
      ],
      "metadata": {
        "id": "S1mv0Fz2TSCf"
      }
    },
    {
      "cell_type": "code",
      "source": [
        "df_17.head()"
      ],
      "metadata": {
        "colab": {
          "base_uri": "https://localhost:8080/",
          "height": 270
        },
        "id": "G8AU_9S_TWJT",
        "outputId": "d3c672ec-fa3f-4693-d60a-f39ca8c628d5"
      },
      "execution_count": null,
      "outputs": [
        {
          "output_type": "execute_result",
          "data": {
            "text/plain": [
              "   DIRECTORIO_PER  DIRECTORIO_HOG  DIRECTORIO  SECUENCIA_P  Edad  Sexo  Asma  \\\n",
              "0        10100011         1010001      101000            1    56     1     2   \n",
              "1        10100012         1010001      101000            1    48     2     2   \n",
              "2        10100013         1010001      101000            1    22     2     2   \n",
              "3        10100111         1010011      101001            1    42     1     2   \n",
              "4        10100112         1010011      101001            1    43     2     2   \n",
              "\n",
              "  JardinPatio AzoteaTerraza CombCocinar  Humedad  NivelVentilacion  Estrato  \\\n",
              "0           1                         2      2.0               2.0      2.0   \n",
              "1           1                         2      2.0               2.0      2.0   \n",
              "2           1                         2      2.0               2.0      2.0   \n",
              "3           1                         2      1.0               2.0      3.0   \n",
              "4           1                         2      1.0               2.0      3.0   \n",
              "\n",
              "   ContAire  SECUENCIA  CODLOCALIDAD NOMLOCALIDAD  \n",
              "0       2.0        1.0            11         Suba  \n",
              "1       2.0        1.0            11         Suba  \n",
              "2       2.0        1.0            11         Suba  \n",
              "3       2.0        1.0             1      Usaquén  \n",
              "4       2.0        1.0             1      Usaquén  "
            ],
            "text/html": [
              "\n",
              "  <div id=\"df-387f0a87-b7d5-4dc5-88c3-064f528f6ae4\">\n",
              "    <div class=\"colab-df-container\">\n",
              "      <div>\n",
              "<style scoped>\n",
              "    .dataframe tbody tr th:only-of-type {\n",
              "        vertical-align: middle;\n",
              "    }\n",
              "\n",
              "    .dataframe tbody tr th {\n",
              "        vertical-align: top;\n",
              "    }\n",
              "\n",
              "    .dataframe thead th {\n",
              "        text-align: right;\n",
              "    }\n",
              "</style>\n",
              "<table border=\"1\" class=\"dataframe\">\n",
              "  <thead>\n",
              "    <tr style=\"text-align: right;\">\n",
              "      <th></th>\n",
              "      <th>DIRECTORIO_PER</th>\n",
              "      <th>DIRECTORIO_HOG</th>\n",
              "      <th>DIRECTORIO</th>\n",
              "      <th>SECUENCIA_P</th>\n",
              "      <th>Edad</th>\n",
              "      <th>Sexo</th>\n",
              "      <th>Asma</th>\n",
              "      <th>JardinPatio</th>\n",
              "      <th>AzoteaTerraza</th>\n",
              "      <th>CombCocinar</th>\n",
              "      <th>Humedad</th>\n",
              "      <th>NivelVentilacion</th>\n",
              "      <th>Estrato</th>\n",
              "      <th>ContAire</th>\n",
              "      <th>SECUENCIA</th>\n",
              "      <th>CODLOCALIDAD</th>\n",
              "      <th>NOMLOCALIDAD</th>\n",
              "    </tr>\n",
              "  </thead>\n",
              "  <tbody>\n",
              "    <tr>\n",
              "      <th>0</th>\n",
              "      <td>10100011</td>\n",
              "      <td>1010001</td>\n",
              "      <td>101000</td>\n",
              "      <td>1</td>\n",
              "      <td>56</td>\n",
              "      <td>1</td>\n",
              "      <td>2</td>\n",
              "      <td>1</td>\n",
              "      <td></td>\n",
              "      <td>2</td>\n",
              "      <td>2.0</td>\n",
              "      <td>2.0</td>\n",
              "      <td>2.0</td>\n",
              "      <td>2.0</td>\n",
              "      <td>1.0</td>\n",
              "      <td>11</td>\n",
              "      <td>Suba</td>\n",
              "    </tr>\n",
              "    <tr>\n",
              "      <th>1</th>\n",
              "      <td>10100012</td>\n",
              "      <td>1010001</td>\n",
              "      <td>101000</td>\n",
              "      <td>1</td>\n",
              "      <td>48</td>\n",
              "      <td>2</td>\n",
              "      <td>2</td>\n",
              "      <td>1</td>\n",
              "      <td></td>\n",
              "      <td>2</td>\n",
              "      <td>2.0</td>\n",
              "      <td>2.0</td>\n",
              "      <td>2.0</td>\n",
              "      <td>2.0</td>\n",
              "      <td>1.0</td>\n",
              "      <td>11</td>\n",
              "      <td>Suba</td>\n",
              "    </tr>\n",
              "    <tr>\n",
              "      <th>2</th>\n",
              "      <td>10100013</td>\n",
              "      <td>1010001</td>\n",
              "      <td>101000</td>\n",
              "      <td>1</td>\n",
              "      <td>22</td>\n",
              "      <td>2</td>\n",
              "      <td>2</td>\n",
              "      <td>1</td>\n",
              "      <td></td>\n",
              "      <td>2</td>\n",
              "      <td>2.0</td>\n",
              "      <td>2.0</td>\n",
              "      <td>2.0</td>\n",
              "      <td>2.0</td>\n",
              "      <td>1.0</td>\n",
              "      <td>11</td>\n",
              "      <td>Suba</td>\n",
              "    </tr>\n",
              "    <tr>\n",
              "      <th>3</th>\n",
              "      <td>10100111</td>\n",
              "      <td>1010011</td>\n",
              "      <td>101001</td>\n",
              "      <td>1</td>\n",
              "      <td>42</td>\n",
              "      <td>1</td>\n",
              "      <td>2</td>\n",
              "      <td>1</td>\n",
              "      <td></td>\n",
              "      <td>2</td>\n",
              "      <td>1.0</td>\n",
              "      <td>2.0</td>\n",
              "      <td>3.0</td>\n",
              "      <td>2.0</td>\n",
              "      <td>1.0</td>\n",
              "      <td>1</td>\n",
              "      <td>Usaquén</td>\n",
              "    </tr>\n",
              "    <tr>\n",
              "      <th>4</th>\n",
              "      <td>10100112</td>\n",
              "      <td>1010011</td>\n",
              "      <td>101001</td>\n",
              "      <td>1</td>\n",
              "      <td>43</td>\n",
              "      <td>2</td>\n",
              "      <td>2</td>\n",
              "      <td>1</td>\n",
              "      <td></td>\n",
              "      <td>2</td>\n",
              "      <td>1.0</td>\n",
              "      <td>2.0</td>\n",
              "      <td>3.0</td>\n",
              "      <td>2.0</td>\n",
              "      <td>1.0</td>\n",
              "      <td>1</td>\n",
              "      <td>Usaquén</td>\n",
              "    </tr>\n",
              "  </tbody>\n",
              "</table>\n",
              "</div>\n",
              "      <button class=\"colab-df-convert\" onclick=\"convertToInteractive('df-387f0a87-b7d5-4dc5-88c3-064f528f6ae4')\"\n",
              "              title=\"Convert this dataframe to an interactive table.\"\n",
              "              style=\"display:none;\">\n",
              "        \n",
              "  <svg xmlns=\"http://www.w3.org/2000/svg\" height=\"24px\"viewBox=\"0 0 24 24\"\n",
              "       width=\"24px\">\n",
              "    <path d=\"M0 0h24v24H0V0z\" fill=\"none\"/>\n",
              "    <path d=\"M18.56 5.44l.94 2.06.94-2.06 2.06-.94-2.06-.94-.94-2.06-.94 2.06-2.06.94zm-11 1L8.5 8.5l.94-2.06 2.06-.94-2.06-.94L8.5 2.5l-.94 2.06-2.06.94zm10 10l.94 2.06.94-2.06 2.06-.94-2.06-.94-.94-2.06-.94 2.06-2.06.94z\"/><path d=\"M17.41 7.96l-1.37-1.37c-.4-.4-.92-.59-1.43-.59-.52 0-1.04.2-1.43.59L10.3 9.45l-7.72 7.72c-.78.78-.78 2.05 0 2.83L4 21.41c.39.39.9.59 1.41.59.51 0 1.02-.2 1.41-.59l7.78-7.78 2.81-2.81c.8-.78.8-2.07 0-2.86zM5.41 20L4 18.59l7.72-7.72 1.47 1.35L5.41 20z\"/>\n",
              "  </svg>\n",
              "      </button>\n",
              "      \n",
              "  <style>\n",
              "    .colab-df-container {\n",
              "      display:flex;\n",
              "      flex-wrap:wrap;\n",
              "      gap: 12px;\n",
              "    }\n",
              "\n",
              "    .colab-df-convert {\n",
              "      background-color: #E8F0FE;\n",
              "      border: none;\n",
              "      border-radius: 50%;\n",
              "      cursor: pointer;\n",
              "      display: none;\n",
              "      fill: #1967D2;\n",
              "      height: 32px;\n",
              "      padding: 0 0 0 0;\n",
              "      width: 32px;\n",
              "    }\n",
              "\n",
              "    .colab-df-convert:hover {\n",
              "      background-color: #E2EBFA;\n",
              "      box-shadow: 0px 1px 2px rgba(60, 64, 67, 0.3), 0px 1px 3px 1px rgba(60, 64, 67, 0.15);\n",
              "      fill: #174EA6;\n",
              "    }\n",
              "\n",
              "    [theme=dark] .colab-df-convert {\n",
              "      background-color: #3B4455;\n",
              "      fill: #D2E3FC;\n",
              "    }\n",
              "\n",
              "    [theme=dark] .colab-df-convert:hover {\n",
              "      background-color: #434B5C;\n",
              "      box-shadow: 0px 1px 3px 1px rgba(0, 0, 0, 0.15);\n",
              "      filter: drop-shadow(0px 1px 2px rgba(0, 0, 0, 0.3));\n",
              "      fill: #FFFFFF;\n",
              "    }\n",
              "  </style>\n",
              "\n",
              "      <script>\n",
              "        const buttonEl =\n",
              "          document.querySelector('#df-387f0a87-b7d5-4dc5-88c3-064f528f6ae4 button.colab-df-convert');\n",
              "        buttonEl.style.display =\n",
              "          google.colab.kernel.accessAllowed ? 'block' : 'none';\n",
              "\n",
              "        async function convertToInteractive(key) {\n",
              "          const element = document.querySelector('#df-387f0a87-b7d5-4dc5-88c3-064f528f6ae4');\n",
              "          const dataTable =\n",
              "            await google.colab.kernel.invokeFunction('convertToInteractive',\n",
              "                                                     [key], {});\n",
              "          if (!dataTable) return;\n",
              "\n",
              "          const docLinkHtml = 'Like what you see? Visit the ' +\n",
              "            '<a target=\"_blank\" href=https://colab.research.google.com/notebooks/data_table.ipynb>data table notebook</a>'\n",
              "            + ' to learn more about interactive tables.';\n",
              "          element.innerHTML = '';\n",
              "          dataTable['output_type'] = 'display_data';\n",
              "          await google.colab.output.renderOutput(dataTable, element);\n",
              "          const docLink = document.createElement('div');\n",
              "          docLink.innerHTML = docLinkHtml;\n",
              "          element.appendChild(docLink);\n",
              "        }\n",
              "      </script>\n",
              "    </div>\n",
              "  </div>\n",
              "  "
            ]
          },
          "metadata": {},
          "execution_count": 160
        }
      ]
    },
    {
      "cell_type": "code",
      "source": [
        "df_out=df_17\n",
        "df_out.to_csv('2017Procesados.csv', index=False)"
      ],
      "metadata": {
        "id": "Eq_Aij0Z14VI"
      },
      "execution_count": null,
      "outputs": []
    }
  ]
}